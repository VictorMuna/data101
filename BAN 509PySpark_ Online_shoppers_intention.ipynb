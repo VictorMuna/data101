{
 "cells": [
  {
   "cell_type": "code",
   "execution_count": 30,
   "metadata": {},
   "outputs": [],
   "source": [
    "from pyspark.mllib.linalg import Vectors\n",
    "from pyspark.ml import Pipeline\n",
    "from pyspark.ml.feature import StringIndexer, VectorIndexer, VectorAssembler\n",
    "from pyspark.ml.classification import DecisionTreeClassifier\n",
    "from pyspark.ml.tuning import CrossValidator, ParamGridBuilder\n",
    "#from pyspark.ml.evaluation import MulticlassClassificationEvaluator\n",
    "from pyspark.sql.types import Row\n",
    "from pyspark.sql.functions import col, round\n",
    "import pandas as pd\n",
    "import functools \n",
    "from pyspark.ml.feature import OneHotEncoder\n",
    "from pyspark.sql.types import DoubleType\n",
    "from pyspark.sql import SparkSession"
   ]
  },
  {
   "cell_type": "code",
   "execution_count": 31,
   "metadata": {},
   "outputs": [],
   "source": [
    "## Attaching online sales csv file to Sparck Context\n",
    "online_sales = sc.textFile(\"online_shoppers_intention.csv\")"
   ]
  },
  {
   "cell_type": "code",
   "execution_count": 32,
   "metadata": {},
   "outputs": [
    {
     "name": "stdout",
     "output_type": "stream",
     "text": [
      "Administrative,Administrative_Duration,Informational,Informational_Duration,ProductRelated,ProductRelated_Duration,BounceRates,ExitRates,PageValues,SpecialDay,Month,OperatingSystems,Browser,Region,TrafficType,VisitorType,Weekend,Revenue\n",
      "0,0,0,0,1,0,0.2,0.2,0,0,Feb,1,1,1,1,Returning_Visitor,FALSE,FALSE\n",
      "0,0,0,0,2,64,0,0.1,0,0,Feb,2,2,1,2,Returning_Visitor,FALSE,FALSE\n",
      "0,-1,0,-1,1,-1,0.2,0.2,0,0,Feb,4,1,9,3,Returning_Visitor,FALSE,FALSE\n",
      "0,0,0,0,2,2.666666667,0.05,0.14,0,0,Feb,3,2,2,4,Returning_Visitor,FALSE,FALSE\n",
      "0,0,0,0,10,627.5,0.02,0.05,0,0,Feb,3,3,1,4,Returning_Visitor,TRUE,FALSE\n",
      "0,0,0,0,19,154.2166667,0.015789474,0.024561404,0,0,Feb,2,2,1,3,Returning_Visitor,FALSE,FALSE\n",
      "0,-1,0,-1,1,-1,0.2,0.2,0,0.4,Feb,2,4,3,3,Returning_Visitor,FALSE,FALSE\n",
      "1,-1,0,-1,1,-1,0.2,0.2,0,0,Feb,1,2,1,5,Returning_Visitor,TRUE,FALSE\n",
      "0,0,0,0,2,37,0,0.1,0,0.8,Feb,2,2,2,3,Returning_Visitor,FALSE,FALSE\n"
     ]
    }
   ],
   "source": [
    "## Data exploration\n",
    "online_sales.first()\n",
    "for i in online_sales.take(10): print(i)"
   ]
  },
  {
   "cell_type": "code",
   "execution_count": null,
   "metadata": {},
   "outputs": [],
   "source": [
    "online_sales.count()"
   ]
  },
  {
   "cell_type": "code",
   "execution_count": null,
   "metadata": {},
   "outputs": [],
   "source": [
    "## Split data columns for pre analysis"
   ]
  },
  {
   "cell_type": "code",
   "execution_count": 33,
   "metadata": {},
   "outputs": [],
   "source": [
    "x = \"Administrative,Administrative_Duration,Informational,Informational_Duration,ProductRelated,ProductRelated_Duration,BounceRates,ExitRates,PageValues,SpecialDay,Month,OperatingSystems,Browser,Region,TrafficType,VisitorType,Weekend,Revenue\""
   ]
  },
  {
   "cell_type": "code",
   "execution_count": 34,
   "metadata": {},
   "outputs": [
    {
     "data": {
      "text/plain": [
       "['Administrative',\n",
       " 'Administrative_Duration',\n",
       " 'Informational',\n",
       " 'Informational_Duration',\n",
       " 'ProductRelated',\n",
       " 'ProductRelated_Duration',\n",
       " 'BounceRates',\n",
       " 'ExitRates',\n",
       " 'PageValues',\n",
       " 'SpecialDay',\n",
       " 'Month',\n",
       " 'OperatingSystems',\n",
       " 'Browser',\n",
       " 'Region',\n",
       " 'TrafficType',\n",
       " 'VisitorType',\n",
       " 'Weekend',\n",
       " 'Revenue']"
      ]
     },
     "execution_count": 34,
     "metadata": {},
     "output_type": "execute_result"
    }
   ],
   "source": [
    "x.split(\",\")"
   ]
  },
  {
   "cell_type": "code",
   "execution_count": 38,
   "metadata": {},
   "outputs": [
    {
     "data": {
      "text/plain": [
       "('Month', 'ProductRelated')"
      ]
     },
     "execution_count": 38,
     "metadata": {},
     "output_type": "execute_result"
    }
   ],
   "source": [
    "(x.split(\",\")[10], (x.split(\",\")[4]))"
   ]
  },
  {
   "cell_type": "code",
   "execution_count": null,
   "metadata": {},
   "outputs": [],
   "source": [
    "## Defining sales RDD for related online sales"
   ]
  },
  {
   "cell_type": "code",
   "execution_count": 37,
   "metadata": {},
   "outputs": [
    {
     "name": "stdout",
     "output_type": "stream",
     "text": [
      "('Month', 'ProductRelated')\n",
      "('Feb', '1')\n",
      "('Feb', '2')\n",
      "('Feb', '1')\n",
      "('Feb', '2')\n",
      "('Feb', '10')\n",
      "('Feb', '19')\n",
      "('Feb', '1')\n",
      "('Feb', '1')\n",
      "('Feb', '2')\n"
     ]
    }
   ],
   "source": [
    "related_saleRDD = online_sales.map(lambda x: (x.split(\",\")[10], x.split(\",\")[4]))\n",
    "for i in related_saleRDD.take(10): print(i)"
   ]
  },
  {
   "cell_type": "code",
   "execution_count": 39,
   "metadata": {},
   "outputs": [],
   "source": [
    "salesRDD = online_sales.filter(lambda x: \"Sale\" not in x).map(lambda x: x.split(\",\"))"
   ]
  },
  {
   "cell_type": "code",
   "execution_count": 40,
   "metadata": {},
   "outputs": [
    {
     "data": {
      "text/plain": [
       "[('Month', 'ProductRelated'),\n",
       " ('May', '99'),\n",
       " ('Feb', '90'),\n",
       " ('Mar', '98'),\n",
       " ('Oct', '97'),\n",
       " ('June', '99'),\n",
       " ('Jul', '98'),\n",
       " ('Aug', '98'),\n",
       " ('Nov', '99'),\n",
       " ('Sep', '98'),\n",
       " ('Dec', '98')]"
      ]
     },
     "execution_count": 40,
     "metadata": {},
     "output_type": "execute_result"
    }
   ],
   "source": [
    "## Checking Month and Related Product sales\n",
    "top_related_saleRDD = salesRDD.map(lambda x: (x[10],x[4])).groupByKey().mapValues(max)\n",
    "top_related_saleRDD.collect()"
   ]
  },
  {
   "cell_type": "code",
   "execution_count": 41,
   "metadata": {},
   "outputs": [
    {
     "data": {
      "text/plain": [
       "[(('VisitorType', 'Month'), 'ProductRelated'),\n",
       " (('Returning_Visitor', 'Feb'), '1'),\n",
       " (('Returning_Visitor', 'Feb'), '2'),\n",
       " (('Returning_Visitor', 'Feb'), '1'),\n",
       " (('Returning_Visitor', 'Feb'), '2'),\n",
       " (('Returning_Visitor', 'Feb'), '10'),\n",
       " (('Returning_Visitor', 'Feb'), '19'),\n",
       " (('Returning_Visitor', 'Feb'), '1'),\n",
       " (('Returning_Visitor', 'Feb'), '1'),\n",
       " (('Returning_Visitor', 'Feb'), '2')]"
      ]
     },
     "execution_count": 41,
     "metadata": {},
     "output_type": "execute_result"
    }
   ],
   "source": [
    "## Checking VisitorType, Month and Related Product\n",
    "grouped_salesRDD = salesRDD.map(lambda x: ((x[15],x[10]),x[4]))\n",
    "grouped_salesRDD.take(10)"
   ]
  },
  {
   "cell_type": "code",
   "execution_count": 42,
   "metadata": {},
   "outputs": [
    {
     "data": {
      "text/plain": [
       "[(('Returning_Visitor', 'Feb'), '1'),\n",
       " (('Returning_Visitor', 'Mar'), ''),\n",
       " (('New_Visitor', 'May'), '0'),\n",
       " (('Returning_Visitor', 'Oct'), '0'),\n",
       " (('Returning_Visitor', 'June'), '0'),\n",
       " (('Returning_Visitor', 'Jul'), '1'),\n",
       " (('Returning_Visitor', 'Aug'), '0'),\n",
       " (('Returning_Visitor', 'Nov'), '0'),\n",
       " (('Returning_Visitor', 'Sep'), '1'),\n",
       " (('Other', 'June'), '222')]"
      ]
     },
     "execution_count": 42,
     "metadata": {},
     "output_type": "execute_result"
    }
   ],
   "source": [
    "## Assesing least VisitorType, Month and Related Product\n",
    "least_grouped_salesRDD = salesRDD.map(lambda x: ((x[15],x[10]),x[4])).groupByKey().mapValues(min)\n",
    "least_grouped_salesRDD.take(10)"
   ]
  },
  {
   "cell_type": "code",
   "execution_count": 43,
   "metadata": {},
   "outputs": [
    {
     "data": {
      "text/plain": [
       "[(('Returning_Visitor', 'Feb'), '90'),\n",
       " (('Returning_Visitor', 'Mar'), '98'),\n",
       " (('New_Visitor', 'May'), '9'),\n",
       " (('Returning_Visitor', 'Oct'), '97'),\n",
       " (('Returning_Visitor', 'June'), '99'),\n",
       " (('Returning_Visitor', 'Jul'), '98'),\n",
       " (('Returning_Visitor', 'Aug'), '98'),\n",
       " (('Returning_Visitor', 'Nov'), '99'),\n",
       " (('Returning_Visitor', 'Sep'), '98'),\n",
       " (('Other', 'June'), '222')]"
      ]
     },
     "execution_count": 43,
     "metadata": {},
     "output_type": "execute_result"
    }
   ],
   "source": [
    "## Assesing top VisitorType, Month and Related Product\n",
    "top_grouped_salesRDD = salesRDD.map(lambda x: ((x[15],x[10]),x[4])).groupByKey().mapValues(max)\n",
    "top_grouped_salesRDD.take(10)"
   ]
  },
  {
   "cell_type": "code",
   "execution_count": 44,
   "metadata": {},
   "outputs": [
    {
     "data": {
      "text/plain": [
       "[('Month', 'BounceRates'),\n",
       " ('May', '7.09E-05'),\n",
       " ('Feb', '0.2'),\n",
       " ('Mar', '9.83E-05'),\n",
       " ('Oct', '3.83E-05'),\n",
       " ('June', '0.2'),\n",
       " ('Jul', '3.94E-05'),\n",
       " ('Aug', '2.73E-05'),\n",
       " ('Nov', '8.14E-05'),\n",
       " ('Sep', '0.2')]"
      ]
     },
     "execution_count": 44,
     "metadata": {},
     "output_type": "execute_result"
    }
   ],
   "source": [
    "## Top monthly bounce rate values\n",
    "bouned_RDD = salesRDD.map(lambda x: (x[10],x[6])).groupByKey().mapValues(max)\n",
    "bouned_RDD.take(10)"
   ]
  },
  {
   "cell_type": "code",
   "execution_count": 45,
   "metadata": {},
   "outputs": [
    {
     "data": {
      "text/plain": [
       "[('BounceRates', 'VisitorType'),\n",
       " ('0.2', 'Returning_Visitor'),\n",
       " ('0', 'Returning_Visitor'),\n",
       " ('0.05', 'Returning_Visitor'),\n",
       " ('0.015789474', 'Returning_Visitor'),\n",
       " ('0.04', 'Returning_Visitor'),\n",
       " ('0.014285714', 'Returning_Visitor'),\n",
       " ('0.028571429', 'Returning_Visitor'),\n",
       " ('0.011111111', 'Returning_Visitor'),\n",
       " ('0.003703704', 'Returning_Visitor')]"
      ]
     },
     "execution_count": 45,
     "metadata": {},
     "output_type": "execute_result"
    }
   ],
   "source": [
    "## Top bounce rate by visitor type\n",
    "top_visit_bounced_RDD = salesRDD.map(lambda x: (x[6],x[15])).groupByKey().mapValues(max)\n",
    "top_visit_bounced_RDD.take(10)"
   ]
  },
  {
   "cell_type": "code",
   "execution_count": 46,
   "metadata": {},
   "outputs": [
    {
     "name": "stdout",
     "output_type": "stream",
     "text": [
      "+-----+----------+-------------------+------------------+-------------------+\n",
      "|Month|sum(label)|sum(Administrative)|sum(Informational)|sum(ProductRelated)|\n",
      "+-----+----------+-------------------+------------------+-------------------+\n",
      "|  Oct|     107.0|               1897|               268|              17275|\n",
      "|  Sep|      83.0|               1427|               254|              14119|\n",
      "|  Dec|     191.0|               3451|               862|              38947|\n",
      "|  Aug|      75.0|               1311|               232|              15557|\n",
      "|  May|     296.0|               5417|              1346|              60631|\n",
      "| June|      29.0|                635|               162|               9384|\n",
      "|  Feb|       3.0|                 98|                16|               1366|\n",
      "|  Nov|     646.0|               7214|              1904|             117159|\n",
      "|  Mar|     179.0|               3003|               781|              26627|\n",
      "|  Jul|      64.0|               1010|               223|              14412|\n",
      "+-----+----------+-------------------+------------------+-------------------+\n",
      "\n"
     ]
    }
   ],
   "source": [
    "## Grouping data by 'Month' sum aggregation\n",
    "df.groupBy(\"Month\").sum().show()"
   ]
  },
  {
   "cell_type": "code",
   "execution_count": 47,
   "metadata": {},
   "outputs": [
    {
     "data": {
      "text/html": [
       "<div>\n",
       "<style scoped>\n",
       "    .dataframe tbody tr th:only-of-type {\n",
       "        vertical-align: middle;\n",
       "    }\n",
       "\n",
       "    .dataframe tbody tr th {\n",
       "        vertical-align: top;\n",
       "    }\n",
       "\n",
       "    .dataframe thead th {\n",
       "        text-align: right;\n",
       "    }\n",
       "</style>\n",
       "<table border=\"1\" class=\"dataframe\">\n",
       "  <thead>\n",
       "    <tr style=\"text-align: right;\">\n",
       "      <th></th>\n",
       "      <th>label</th>\n",
       "      <th>features</th>\n",
       "      <th>Administrative</th>\n",
       "      <th>Informational</th>\n",
       "      <th>ProductRelated</th>\n",
       "      <th>Month</th>\n",
       "      <th>VisitorType</th>\n",
       "      <th>Revenue</th>\n",
       "    </tr>\n",
       "  </thead>\n",
       "  <tbody>\n",
       "    <tr>\n",
       "      <th>0</th>\n",
       "      <td>0.0</td>\n",
       "      <td>(2.0, 0.0, 6.0, 0.0, 0.0, 0.0, 1.0, 0.0, 0.0, ...</td>\n",
       "      <td>2</td>\n",
       "      <td>0</td>\n",
       "      <td>6</td>\n",
       "      <td>Mar</td>\n",
       "      <td>New_Visitor</td>\n",
       "      <td>false</td>\n",
       "    </tr>\n",
       "    <tr>\n",
       "      <th>1</th>\n",
       "      <td>0.0</td>\n",
       "      <td>(4.0, 0.0, 12.0, 0.0, 0.0, 0.0, 1.0, 0.0, 0.0,...</td>\n",
       "      <td>4</td>\n",
       "      <td>0</td>\n",
       "      <td>12</td>\n",
       "      <td>Mar</td>\n",
       "      <td>Returning_Visitor</td>\n",
       "      <td>false</td>\n",
       "    </tr>\n",
       "    <tr>\n",
       "      <th>2</th>\n",
       "      <td>1.0</td>\n",
       "      <td>(2.0, 2.0, 37.0, 0.0, 0.0, 0.0, 1.0, 0.0, 0.0,...</td>\n",
       "      <td>2</td>\n",
       "      <td>2</td>\n",
       "      <td>37</td>\n",
       "      <td>Mar</td>\n",
       "      <td>Returning_Visitor</td>\n",
       "      <td>true</td>\n",
       "    </tr>\n",
       "    <tr>\n",
       "      <th>3</th>\n",
       "      <td>0.0</td>\n",
       "      <td>(2.0, 0.0, 49.0, 0.0, 0.0, 0.0, 1.0, 0.0, 0.0,...</td>\n",
       "      <td>2</td>\n",
       "      <td>0</td>\n",
       "      <td>49</td>\n",
       "      <td>Mar</td>\n",
       "      <td>Returning_Visitor</td>\n",
       "      <td>false</td>\n",
       "    </tr>\n",
       "    <tr>\n",
       "      <th>4</th>\n",
       "      <td>1.0</td>\n",
       "      <td>(5.0, 0.0, 18.0, 0.0, 0.0, 0.0, 1.0, 0.0, 0.0,...</td>\n",
       "      <td>5</td>\n",
       "      <td>0</td>\n",
       "      <td>18</td>\n",
       "      <td>Mar</td>\n",
       "      <td>Returning_Visitor</td>\n",
       "      <td>true</td>\n",
       "    </tr>\n",
       "  </tbody>\n",
       "</table>\n",
       "</div>"
      ],
      "text/plain": [
       "   label                                           features  Administrative  \\\n",
       "0    0.0  (2.0, 0.0, 6.0, 0.0, 0.0, 0.0, 1.0, 0.0, 0.0, ...               2   \n",
       "1    0.0  (4.0, 0.0, 12.0, 0.0, 0.0, 0.0, 1.0, 0.0, 0.0,...               4   \n",
       "2    1.0  (2.0, 2.0, 37.0, 0.0, 0.0, 0.0, 1.0, 0.0, 0.0,...               2   \n",
       "3    0.0  (2.0, 0.0, 49.0, 0.0, 0.0, 0.0, 1.0, 0.0, 0.0,...               2   \n",
       "4    1.0  (5.0, 0.0, 18.0, 0.0, 0.0, 0.0, 1.0, 0.0, 0.0,...               5   \n",
       "\n",
       "   Informational  ProductRelated Month        VisitorType Revenue  \n",
       "0              0               6   Mar        New_Visitor   false  \n",
       "1              0              12   Mar  Returning_Visitor   false  \n",
       "2              2              37   Mar  Returning_Visitor    true  \n",
       "3              0              49   Mar  Returning_Visitor   false  \n",
       "4              0              18   Mar  Returning_Visitor    true  "
      ]
     },
     "execution_count": 47,
     "metadata": {},
     "output_type": "execute_result"
    }
   ],
   "source": [
    "## Dataframe online_shoppers sales in pandas\n",
    "pd.DataFrame(df.take(5), columns=df.columns)"
   ]
  },
  {
   "cell_type": "code",
   "execution_count": 48,
   "metadata": {},
   "outputs": [
    {
     "data": {
      "text/html": [
       "<div>\n",
       "<style scoped>\n",
       "    .dataframe tbody tr th:only-of-type {\n",
       "        vertical-align: middle;\n",
       "    }\n",
       "\n",
       "    .dataframe tbody tr th {\n",
       "        vertical-align: top;\n",
       "    }\n",
       "\n",
       "    .dataframe thead th {\n",
       "        text-align: right;\n",
       "    }\n",
       "</style>\n",
       "<table border=\"1\" class=\"dataframe\">\n",
       "  <thead>\n",
       "    <tr style=\"text-align: right;\">\n",
       "      <th></th>\n",
       "      <th>0</th>\n",
       "      <th>1</th>\n",
       "      <th>2</th>\n",
       "      <th>3</th>\n",
       "      <th>4</th>\n",
       "    </tr>\n",
       "  </thead>\n",
       "  <tbody>\n",
       "    <tr>\n",
       "      <th>summary</th>\n",
       "      <td>count</td>\n",
       "      <td>mean</td>\n",
       "      <td>stddev</td>\n",
       "      <td>min</td>\n",
       "      <td>max</td>\n",
       "    </tr>\n",
       "    <tr>\n",
       "      <th>label</th>\n",
       "      <td>6715</td>\n",
       "      <td>0.24914370811615785</td>\n",
       "      <td>0.4325494002587845</td>\n",
       "      <td>0.0</td>\n",
       "      <td>1.0</td>\n",
       "    </tr>\n",
       "    <tr>\n",
       "      <th>Administrative</th>\n",
       "      <td>6715</td>\n",
       "      <td>3.7919583023082652</td>\n",
       "      <td>3.7460408202894766</td>\n",
       "      <td>0</td>\n",
       "      <td>27</td>\n",
       "    </tr>\n",
       "    <tr>\n",
       "      <th>Informational</th>\n",
       "      <td>6715</td>\n",
       "      <td>0.9006701414743112</td>\n",
       "      <td>1.6046897953639372</td>\n",
       "      <td>0</td>\n",
       "      <td>24</td>\n",
       "    </tr>\n",
       "    <tr>\n",
       "      <th>ProductRelated</th>\n",
       "      <td>6715</td>\n",
       "      <td>46.98093819806404</td>\n",
       "      <td>54.37872022217047</td>\n",
       "      <td>0</td>\n",
       "      <td>705</td>\n",
       "    </tr>\n",
       "    <tr>\n",
       "      <th>Month</th>\n",
       "      <td>6715</td>\n",
       "      <td>None</td>\n",
       "      <td>None</td>\n",
       "      <td>Aug</td>\n",
       "      <td>Sep</td>\n",
       "    </tr>\n",
       "    <tr>\n",
       "      <th>VisitorType</th>\n",
       "      <td>6715</td>\n",
       "      <td>None</td>\n",
       "      <td>None</td>\n",
       "      <td>New_Visitor</td>\n",
       "      <td>Returning_Visitor</td>\n",
       "    </tr>\n",
       "    <tr>\n",
       "      <th>Revenue</th>\n",
       "      <td>6715</td>\n",
       "      <td>None</td>\n",
       "      <td>None</td>\n",
       "      <td>false</td>\n",
       "      <td>true</td>\n",
       "    </tr>\n",
       "  </tbody>\n",
       "</table>\n",
       "</div>"
      ],
      "text/plain": [
       "                    0                    1                   2            3  \\\n",
       "summary         count                 mean              stddev          min   \n",
       "label            6715  0.24914370811615785  0.4325494002587845          0.0   \n",
       "Administrative   6715   3.7919583023082652  3.7460408202894766            0   \n",
       "Informational    6715   0.9006701414743112  1.6046897953639372            0   \n",
       "ProductRelated   6715    46.98093819806404   54.37872022217047            0   \n",
       "Month            6715                 None                None          Aug   \n",
       "VisitorType      6715                 None                None  New_Visitor   \n",
       "Revenue          6715                 None                None        false   \n",
       "\n",
       "                                4  \n",
       "summary                       max  \n",
       "label                         1.0  \n",
       "Administrative                 27  \n",
       "Informational                  24  \n",
       "ProductRelated                705  \n",
       "Month                         Sep  \n",
       "VisitorType     Returning_Visitor  \n",
       "Revenue                      true  "
      ]
     },
     "execution_count": 48,
     "metadata": {},
     "output_type": "execute_result"
    }
   ],
   "source": [
    "## Summary statistics for all variables\n",
    "df.describe().toPandas().transpose()"
   ]
  },
  {
   "cell_type": "code",
   "execution_count": 49,
   "metadata": {},
   "outputs": [
    {
     "data": {
      "text/html": [
       "<div>\n",
       "<style scoped>\n",
       "    .dataframe tbody tr th:only-of-type {\n",
       "        vertical-align: middle;\n",
       "    }\n",
       "\n",
       "    .dataframe tbody tr th {\n",
       "        vertical-align: top;\n",
       "    }\n",
       "\n",
       "    .dataframe thead th {\n",
       "        text-align: right;\n",
       "    }\n",
       "</style>\n",
       "<table border=\"1\" class=\"dataframe\">\n",
       "  <thead>\n",
       "    <tr style=\"text-align: right;\">\n",
       "      <th></th>\n",
       "      <th>0</th>\n",
       "      <th>1</th>\n",
       "      <th>2</th>\n",
       "      <th>3</th>\n",
       "      <th>4</th>\n",
       "    </tr>\n",
       "  </thead>\n",
       "  <tbody>\n",
       "    <tr>\n",
       "      <th>summary</th>\n",
       "      <td>count</td>\n",
       "      <td>mean</td>\n",
       "      <td>stddev</td>\n",
       "      <td>min</td>\n",
       "      <td>max</td>\n",
       "    </tr>\n",
       "    <tr>\n",
       "      <th>Administrative</th>\n",
       "      <td>6715</td>\n",
       "      <td>3.7919583023082652</td>\n",
       "      <td>3.7460408202894766</td>\n",
       "      <td>0</td>\n",
       "      <td>27</td>\n",
       "    </tr>\n",
       "    <tr>\n",
       "      <th>Informational</th>\n",
       "      <td>6715</td>\n",
       "      <td>0.9006701414743112</td>\n",
       "      <td>1.6046897953639372</td>\n",
       "      <td>0</td>\n",
       "      <td>24</td>\n",
       "    </tr>\n",
       "    <tr>\n",
       "      <th>ProductRelated</th>\n",
       "      <td>6715</td>\n",
       "      <td>46.98093819806404</td>\n",
       "      <td>54.37872022217047</td>\n",
       "      <td>0</td>\n",
       "      <td>705</td>\n",
       "    </tr>\n",
       "  </tbody>\n",
       "</table>\n",
       "</div>"
      ],
      "text/plain": [
       "                    0                   1                   2    3    4\n",
       "summary         count                mean              stddev  min  max\n",
       "Administrative   6715  3.7919583023082652  3.7460408202894766    0   27\n",
       "Informational    6715  0.9006701414743112  1.6046897953639372    0   24\n",
       "ProductRelated   6715   46.98093819806404   54.37872022217047    0  705"
      ]
     },
     "execution_count": 49,
     "metadata": {},
     "output_type": "execute_result"
    }
   ],
   "source": [
    "## Summary statistics for numeric variables\n",
    "numeric_features = [t[0] for t in df.dtypes if t[1] == \"int\"]\n",
    "df.select(numeric_features).describe().toPandas().transpose()"
   ]
  },
  {
   "cell_type": "code",
   "execution_count": null,
   "metadata": {},
   "outputs": [],
   "source": [
    "## Online_sales in DataFrames"
   ]
  },
  {
   "cell_type": "code",
   "execution_count": 3,
   "metadata": {},
   "outputs": [],
   "source": [
    "spark = SparkSession.builder.appName(\"groupbyagg\").getOrCreate()\n",
    "df = spark.read.csv('online_shoppers_intention.csv', header = True, inferSchema = True)\n",
    "spark"
   ]
  },
  {
   "cell_type": "code",
   "execution_count": 4,
   "metadata": {},
   "outputs": [
    {
     "name": "stdout",
     "output_type": "stream",
     "text": [
      "root\n",
      " |-- Administrative: integer (nullable = true)\n",
      " |-- Administrative_Duration: double (nullable = true)\n",
      " |-- Informational: integer (nullable = true)\n",
      " |-- Informational_Duration: double (nullable = true)\n",
      " |-- ProductRelated: integer (nullable = true)\n",
      " |-- ProductRelated_Duration: double (nullable = true)\n",
      " |-- BounceRates: double (nullable = true)\n",
      " |-- ExitRates: double (nullable = true)\n",
      " |-- PageValues: double (nullable = true)\n",
      " |-- SpecialDay: double (nullable = true)\n",
      " |-- Month: string (nullable = true)\n",
      " |-- OperatingSystems: integer (nullable = true)\n",
      " |-- Browser: integer (nullable = true)\n",
      " |-- Region: integer (nullable = true)\n",
      " |-- TrafficType: integer (nullable = true)\n",
      " |-- VisitorType: string (nullable = true)\n",
      " |-- Weekend: boolean (nullable = true)\n",
      " |-- Revenue: boolean (nullable = true)\n",
      "\n"
     ]
    }
   ],
   "source": [
    "df.describe()\n",
    "df.printSchema()"
   ]
  },
  {
   "cell_type": "code",
   "execution_count": 5,
   "metadata": {},
   "outputs": [],
   "source": [
    "## Filling missing values\n",
    "df = df.na.fill(0)"
   ]
  },
  {
   "cell_type": "code",
   "execution_count": 6,
   "metadata": {},
   "outputs": [],
   "source": [
    "df = df.withColumn('Revenue', df['Revenue'].cast(\"string\"))"
   ]
  },
  {
   "cell_type": "code",
   "execution_count": 7,
   "metadata": {},
   "outputs": [],
   "source": [
    "## Selecting a subset of the Dataframe for interest columns\n",
    "cols_select = ['Administrative','Informational','ProductRelated','Month','VisitorType','Revenue']\n",
    "df = df.select(cols_select).dropDuplicates()"
   ]
  },
  {
   "cell_type": "code",
   "execution_count": 8,
   "metadata": {},
   "outputs": [],
   "source": [
    "## One Hot Encoding\n",
    "column_vec_in = ['Month','VisitorType']\n",
    "column_vec_out = ['Month_vec','VisitorType_vec']"
   ]
  },
  {
   "cell_type": "code",
   "execution_count": 9,
   "metadata": {},
   "outputs": [],
   "source": [
    "indexers = [StringIndexer(inputCol=x, outputCol=x+'_tmp') for x in column_vec_in]\n",
    "encoders = [OneHotEncoder(dropLast=False, inputCol=x+'_tmp', outputCol=y)\n",
    "                         for x,y in zip(column_vec_in,column_vec_out)]\n",
    "tmp = [[i,j] for i,j in zip(indexers,encoders)]\n",
    "tmp = [i for sublist in tmp for i in sublist]"
   ]
  },
  {
   "cell_type": "code",
   "execution_count": 10,
   "metadata": {},
   "outputs": [],
   "source": [
    "## Prepare labeled sets\n",
    "cols_now = ['Administrative','Informational','ProductRelated','Month_vec','VisitorType_vec']\n",
    "assembler_features = VectorAssembler(inputCols=cols_now, outputCol='features')\n",
    "labelIndexer = StringIndexer(inputCol='Revenue', outputCol='label')\n",
    "tmp += [assembler_features, labelIndexer]\n",
    "#pipeline = Pipeline(stages=tmp)"
   ]
  },
  {
   "cell_type": "code",
   "execution_count": 11,
   "metadata": {},
   "outputs": [
    {
     "name": "stdout",
     "output_type": "stream",
     "text": [
      "root\n",
      " |-- label: double (nullable = false)\n",
      " |-- features: vector (nullable = true)\n",
      " |-- Administrative: integer (nullable = true)\n",
      " |-- Informational: integer (nullable = true)\n",
      " |-- ProductRelated: integer (nullable = true)\n",
      " |-- Month: string (nullable = true)\n",
      " |-- VisitorType: string (nullable = true)\n",
      " |-- Revenue: string (nullable = true)\n",
      "\n"
     ]
    }
   ],
   "source": [
    "pipeline = Pipeline(stages = tmp)\n",
    "pipelineModel = pipeline.fit(df)\n",
    "df = pipelineModel.transform(df)\n",
    "selectedCols = ['label', 'features'] + cols_select\n",
    "df = df.select(selectedCols)\n",
    "df.printSchema()\n"
   ]
  },
  {
   "cell_type": "code",
   "execution_count": 12,
   "metadata": {},
   "outputs": [
    {
     "data": {
      "text/html": [
       "<div>\n",
       "<style scoped>\n",
       "    .dataframe tbody tr th:only-of-type {\n",
       "        vertical-align: middle;\n",
       "    }\n",
       "\n",
       "    .dataframe tbody tr th {\n",
       "        vertical-align: top;\n",
       "    }\n",
       "\n",
       "    .dataframe thead th {\n",
       "        text-align: right;\n",
       "    }\n",
       "</style>\n",
       "<table border=\"1\" class=\"dataframe\">\n",
       "  <thead>\n",
       "    <tr style=\"text-align: right;\">\n",
       "      <th></th>\n",
       "      <th>0</th>\n",
       "      <th>1</th>\n",
       "      <th>2</th>\n",
       "      <th>3</th>\n",
       "      <th>4</th>\n",
       "    </tr>\n",
       "  </thead>\n",
       "  <tbody>\n",
       "    <tr>\n",
       "      <th>label</th>\n",
       "      <td>0</td>\n",
       "      <td>0</td>\n",
       "      <td>1</td>\n",
       "      <td>0</td>\n",
       "      <td>1</td>\n",
       "    </tr>\n",
       "    <tr>\n",
       "      <th>features</th>\n",
       "      <td>(2.0, 0.0, 6.0, 0.0, 0.0, 0.0, 1.0, 0.0, 0.0, ...</td>\n",
       "      <td>(4.0, 0.0, 12.0, 0.0, 0.0, 0.0, 1.0, 0.0, 0.0,...</td>\n",
       "      <td>(2.0, 2.0, 37.0, 0.0, 0.0, 0.0, 1.0, 0.0, 0.0,...</td>\n",
       "      <td>(2.0, 0.0, 49.0, 0.0, 0.0, 0.0, 1.0, 0.0, 0.0,...</td>\n",
       "      <td>(5.0, 0.0, 18.0, 0.0, 0.0, 0.0, 1.0, 0.0, 0.0,...</td>\n",
       "    </tr>\n",
       "    <tr>\n",
       "      <th>Administrative</th>\n",
       "      <td>2</td>\n",
       "      <td>4</td>\n",
       "      <td>2</td>\n",
       "      <td>2</td>\n",
       "      <td>5</td>\n",
       "    </tr>\n",
       "    <tr>\n",
       "      <th>Informational</th>\n",
       "      <td>0</td>\n",
       "      <td>0</td>\n",
       "      <td>2</td>\n",
       "      <td>0</td>\n",
       "      <td>0</td>\n",
       "    </tr>\n",
       "    <tr>\n",
       "      <th>ProductRelated</th>\n",
       "      <td>6</td>\n",
       "      <td>12</td>\n",
       "      <td>37</td>\n",
       "      <td>49</td>\n",
       "      <td>18</td>\n",
       "    </tr>\n",
       "    <tr>\n",
       "      <th>Month</th>\n",
       "      <td>Mar</td>\n",
       "      <td>Mar</td>\n",
       "      <td>Mar</td>\n",
       "      <td>Mar</td>\n",
       "      <td>Mar</td>\n",
       "    </tr>\n",
       "    <tr>\n",
       "      <th>VisitorType</th>\n",
       "      <td>New_Visitor</td>\n",
       "      <td>Returning_Visitor</td>\n",
       "      <td>Returning_Visitor</td>\n",
       "      <td>Returning_Visitor</td>\n",
       "      <td>Returning_Visitor</td>\n",
       "    </tr>\n",
       "    <tr>\n",
       "      <th>Revenue</th>\n",
       "      <td>false</td>\n",
       "      <td>false</td>\n",
       "      <td>true</td>\n",
       "      <td>false</td>\n",
       "      <td>true</td>\n",
       "    </tr>\n",
       "  </tbody>\n",
       "</table>\n",
       "</div>"
      ],
      "text/plain": [
       "                                                                0  \\\n",
       "label                                                           0   \n",
       "features        (2.0, 0.0, 6.0, 0.0, 0.0, 0.0, 1.0, 0.0, 0.0, ...   \n",
       "Administrative                                                  2   \n",
       "Informational                                                   0   \n",
       "ProductRelated                                                  6   \n",
       "Month                                                         Mar   \n",
       "VisitorType                                           New_Visitor   \n",
       "Revenue                                                     false   \n",
       "\n",
       "                                                                1  \\\n",
       "label                                                           0   \n",
       "features        (4.0, 0.0, 12.0, 0.0, 0.0, 0.0, 1.0, 0.0, 0.0,...   \n",
       "Administrative                                                  4   \n",
       "Informational                                                   0   \n",
       "ProductRelated                                                 12   \n",
       "Month                                                         Mar   \n",
       "VisitorType                                     Returning_Visitor   \n",
       "Revenue                                                     false   \n",
       "\n",
       "                                                                2  \\\n",
       "label                                                           1   \n",
       "features        (2.0, 2.0, 37.0, 0.0, 0.0, 0.0, 1.0, 0.0, 0.0,...   \n",
       "Administrative                                                  2   \n",
       "Informational                                                   2   \n",
       "ProductRelated                                                 37   \n",
       "Month                                                         Mar   \n",
       "VisitorType                                     Returning_Visitor   \n",
       "Revenue                                                      true   \n",
       "\n",
       "                                                                3  \\\n",
       "label                                                           0   \n",
       "features        (2.0, 0.0, 49.0, 0.0, 0.0, 0.0, 1.0, 0.0, 0.0,...   \n",
       "Administrative                                                  2   \n",
       "Informational                                                   0   \n",
       "ProductRelated                                                 49   \n",
       "Month                                                         Mar   \n",
       "VisitorType                                     Returning_Visitor   \n",
       "Revenue                                                     false   \n",
       "\n",
       "                                                                4  \n",
       "label                                                           1  \n",
       "features        (5.0, 0.0, 18.0, 0.0, 0.0, 0.0, 1.0, 0.0, 0.0,...  \n",
       "Administrative                                                  5  \n",
       "Informational                                                   0  \n",
       "ProductRelated                                                 18  \n",
       "Month                                                         Mar  \n",
       "VisitorType                                     Returning_Visitor  \n",
       "Revenue                                                      true  "
      ]
     },
     "execution_count": 12,
     "metadata": {},
     "output_type": "execute_result"
    }
   ],
   "source": [
    "## To view the new columns 'features' and 'label'\n",
    "pd.DataFrame(df.take(5), columns=df.columns).transpose()"
   ]
  },
  {
   "cell_type": "code",
   "execution_count": null,
   "metadata": {},
   "outputs": [],
   "source": [
    "## Splitting Dataset for training and testing"
   ]
  },
  {
   "cell_type": "code",
   "execution_count": 13,
   "metadata": {},
   "outputs": [
    {
     "name": "stdout",
     "output_type": "stream",
     "text": [
      "Training Dataset Count: 4651\n",
      "Test Dataset Count: 2064\n"
     ]
    }
   ],
   "source": [
    "train, test = df.randomSplit([0.7, 0.3], seed = 0)\n",
    "print(\"Training Dataset Count: \" + str(train.count()))\n",
    "print(\"Test Dataset Count: \" + str(test.count()))"
   ]
  },
  {
   "cell_type": "code",
   "execution_count": null,
   "metadata": {},
   "outputs": [],
   "source": [
    "## Running the RANDOM FOREST CLASSIFICATION MODEL"
   ]
  },
  {
   "cell_type": "code",
   "execution_count": 14,
   "metadata": {},
   "outputs": [],
   "source": [
    "from pyspark.ml.classification import RandomForestClassifier\n",
    "rf = RandomForestClassifier(featuresCol = 'features', labelCol = 'label', numTrees = 200)\n",
    "rfModel = rf.fit(train)\n",
    "predictions = rfModel.transform(test)\n"
   ]
  },
  {
   "cell_type": "code",
   "execution_count": 15,
   "metadata": {},
   "outputs": [
    {
     "name": "stdout",
     "output_type": "stream",
     "text": [
      "+--------------+--------------+-----+--------------------+----------+--------------------+\n",
      "|Administrative|ProductRelated|label|       rawPrediction|prediction|         probability|\n",
      "+--------------+--------------+-----+--------------------+----------+--------------------+\n",
      "|             4|            14|  0.0|[155.874360704383...|       0.0|[0.77937180352191...|\n",
      "|             2|            20|  0.0|[155.185559155465...|       0.0|[0.77592779577732...|\n",
      "|             1|            16|  0.0|[154.195095267891...|       0.0|[0.77097547633945...|\n",
      "|             5|             5|  0.0|[143.429584876497...|       0.0|[0.71714792438248...|\n",
      "|             2|            21|  0.0|[154.222486798409...|       0.0|[0.77111243399204...|\n",
      "|             0|            35|  0.0|[154.576862414839...|       0.0|[0.77288431207419...|\n",
      "|             4|            23|  1.0|[156.058879482101...|       0.0|[0.78029439741050...|\n",
      "|             2|            37|  1.0|[155.707159882340...|       0.0|[0.77853579941170...|\n",
      "|            10|            27|  1.0|[154.915754537892...|       0.0|[0.77457877268946...|\n",
      "|             5|            18|  1.0|[155.273287878268...|       0.0|[0.77636643939134...|\n",
      "+--------------+--------------+-----+--------------------+----------+--------------------+\n",
      "only showing top 10 rows\n",
      "\n"
     ]
    }
   ],
   "source": [
    "predictions.select('Administrative', 'ProductRelated', 'label', 'rawPrediction', 'prediction', 'probability').show(10)"
   ]
  },
  {
   "cell_type": "code",
   "execution_count": null,
   "metadata": {},
   "outputs": [],
   "source": [
    "## Evaluating our RFModel for Accuracy"
   ]
  },
  {
   "cell_type": "code",
   "execution_count": 17,
   "metadata": {},
   "outputs": [
    {
     "name": "stdout",
     "output_type": "stream",
     "text": [
      "Test Area Under ROC: 0.614812661277757\n"
     ]
    }
   ],
   "source": [
    "from pyspark.ml.evaluation import BinaryClassificationEvaluator\n",
    "evaluator = BinaryClassificationEvaluator()\n",
    "print(\"Test Area Under ROC: \" + str(evaluator.evaluate(predictions, {evaluator.metricName: \"areaUnderROC\"})))"
   ]
  },
  {
   "cell_type": "code",
   "execution_count": null,
   "metadata": {},
   "outputs": [],
   "source": [
    "## Running the GRADIENT BOOSTED TREE CLASSIFICATION MODEL\n",
    "## May take quite some time in running"
   ]
  },
  {
   "cell_type": "code",
   "execution_count": 58,
   "metadata": {},
   "outputs": [
    {
     "name": "stdout",
     "output_type": "stream",
     "text": [
      "+--------------+--------------+-----+--------------------+----------+--------------------+\n",
      "|Administrative|ProductRelated|label|       rawPrediction|prediction|         probability|\n",
      "+--------------+--------------+-----+--------------------+----------+--------------------+\n",
      "|             4|            14|  0.0|[0.50260806970813...|       0.0|[0.73208289701911...|\n",
      "|             2|            20|  0.0|[0.58113045154732...|       0.0|[0.76174328995702...|\n",
      "|             1|            16|  0.0|[0.59326393194864...|       0.0|[0.76611950040422...|\n",
      "|             5|             5|  0.0|[0.66309947980641...|       0.0|[0.79021120306205...|\n",
      "|             2|            21|  0.0|[0.53495182711649...|       0.0|[0.74457859309489...|\n",
      "|             0|            35|  0.0|[0.65425015902294...|       0.0|[0.78726209661600...|\n",
      "|             4|            23|  1.0|[0.58113045154732...|       0.0|[0.76174328995702...|\n",
      "|             2|            37|  1.0|[0.68847500430430...|       0.0|[0.79850071154366...|\n",
      "|            10|            27|  1.0|[0.63838559714338...|       0.0|[0.78189966104347...|\n",
      "|             5|            18|  1.0|[0.56154676228393...|       0.0|[0.75456208252907...|\n",
      "+--------------+--------------+-----+--------------------+----------+--------------------+\n",
      "only showing top 10 rows\n",
      "\n"
     ]
    }
   ],
   "source": [
    "from pyspark.ml.classification import GBTClassifier\n",
    "\n",
    "gbt = GBTClassifier(maxIter=10)\n",
    "gbtModel = gbt.fit(train)\n",
    "predictions = gbtModel.transform(test)\n",
    "predictions.select('Administrative', 'ProductRelated', 'label', 'rawPrediction', 'prediction', 'probability').show(10)"
   ]
  },
  {
   "cell_type": "code",
   "execution_count": null,
   "metadata": {},
   "outputs": [],
   "source": [
    "## Evaluating our RFModel for Accuracy"
   ]
  },
  {
   "cell_type": "code",
   "execution_count": 59,
   "metadata": {},
   "outputs": [
    {
     "name": "stdout",
     "output_type": "stream",
     "text": [
      "Test Area Under ROC: 0.6358780540639143\n"
     ]
    }
   ],
   "source": [
    "evaluator = BinaryClassificationEvaluator()\n",
    "print(\"Test Area Under ROC: \" + str(evaluator.evaluate(predictions, {evaluator.metricName: \"areaUnderROC\"})))"
   ]
  },
  {
   "cell_type": "code",
   "execution_count": null,
   "metadata": {},
   "outputs": [],
   "source": [
    "## Gradient Boosted Tree Achieved Best Results ##"
   ]
  },
  {
   "cell_type": "code",
   "execution_count": null,
   "metadata": {},
   "outputs": [],
   "source": []
  }
 ],
 "metadata": {
  "kernelspec": {
   "display_name": "Python 3",
   "language": "python",
   "name": "python3"
  },
  "language_info": {
   "codemirror_mode": {
    "name": "ipython",
    "version": 3
   },
   "file_extension": ".py",
   "mimetype": "text/x-python",
   "name": "python",
   "nbconvert_exporter": "python",
   "pygments_lexer": "ipython3",
   "version": "3.7.4"
  }
 },
 "nbformat": 4,
 "nbformat_minor": 2
}
